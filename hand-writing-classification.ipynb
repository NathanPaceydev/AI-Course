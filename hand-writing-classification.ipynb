{
 "cells": [
  {
   "cell_type": "markdown",
   "metadata": {},
   "source": [
    "### MNIST Handwritten Digits Reconition Using CNN"
   ]
  },
  {
   "cell_type": "code",
   "execution_count": 2,
   "metadata": {},
   "outputs": [
    {
     "name": "stdout",
     "output_type": "stream",
     "text": [
      "Tensorflow Version: 2.9.1\n",
      "Keras Version: 2.9.0\n",
      "Sci-Kit Learn Version: 1.1.1\n"
     ]
    }
   ],
   "source": [
    "## Importing all the required libraries\n",
    "\n",
    "# Note that Keras is built into TF 2.0\n",
    "import tensorflow as tf\n",
    "from tensorflow.keras import layers\n",
    "from tensorflow.keras.preprocessing.image import ImageDataGenerator\n",
    "\n",
    "# parsing & math libraries\n",
    "import os\n",
    "import pandas as pd\n",
    "import numpy as np\n",
    "import random\n",
    "import itertools\n",
    "\n",
    "# plotting libraries\n",
    "import seaborn as sns\n",
    "#Setting the Theme of the data visualizer Seaborn\n",
    "sns.set(style=\"dark\",context=\"notebook\",palette=\"muted\")\n",
    "\n",
    "import matplotlib\n",
    "import matplotlib.pyplot as plt\n",
    "import matplotlib.image as img\n",
    "from matplotlib.pyplot import title\n",
    "%matplotlib inline\n",
    "\n",
    "# importing sci-kit learn libraries\n",
    "import sklearn\n",
    "from sklearn.model_selection import train_test_split\n",
    "from sklearn.metrics import confusion_matrix\n",
    "\n",
    "# testing the imports by printing versions\n",
    "print(\"Tensorflow Version: \"+ tf.version.VERSION)\n",
    "print(\"Keras Version: \"+ tf.keras.__version__)\n",
    "print(\"Sci-Kit Learn Version: \"+ sklearn.__version__)"
   ]
  },
  {
   "cell_type": "markdown",
   "metadata": {},
   "source": [
    "##### To train the dataset you have to create an input folder and download the data from https://www.kaggle.com/datasets/mloey1/ahdd1?resource=download "
   ]
  },
  {
   "cell_type": "code",
   "execution_count": 3,
   "metadata": {},
   "outputs": [
    {
     "name": "stdout",
     "output_type": "stream",
     "text": [
      "../kaggle/input\\csvTestImages 10k x 784.csv\n",
      "../kaggle/input\\csvTestLabel 10k x 1.csv\n",
      "../kaggle/input\\csvTrainImages 60k x 784.csv\n",
      "../kaggle/input\\csvTrainLabel 60k x 1.csv\n",
      "../kaggle/input\\Train + Test Matlab.mat\n",
      "../kaggle/input\\Arabic Handwritten Digits Dataset CSV\\csvTestImages 10k x 784.csv\n",
      "../kaggle/input\\Arabic Handwritten Digits Dataset CSV\\csvTestLabel 10k x 1.csv\n",
      "../kaggle/input\\Arabic Handwritten Digits Dataset CSV\\csvTrainImages 60k x 784.csv\n",
      "../kaggle/input\\Arabic Handwritten Digits Dataset CSV\\csvTrainLabel 60k x 1.csv\n",
      "../kaggle/input\\csvTrainImages 60k x 784\\csvTrainImages 60k x 784.csv\n"
     ]
    }
   ],
   "source": [
    "# Checking to make sure the dataset was downloaded properly \n",
    "# Note I made an input folder ../kaggle/input\n",
    "for dirname, _, filenames in os.walk('../kaggle/input'):\n",
    "    for filename in filenames:\n",
    "        print(os.path.join(dirname, filename))"
   ]
  },
  {
   "cell_type": "code",
   "execution_count": 4,
   "metadata": {},
   "outputs": [],
   "source": [
    "#df = pd.read_csv('/kaggle/input/ahdd1/Arabic Handwritten Digits Dataset CSV/csvTrainImages 60k x 784.csv')\n",
    "#df_label = pd.read_csv('/kaggle/input/ahdd1/Arabic Handwritten Digits Dataset CSV/csvTrainLabel 60k x 1.csv')"
   ]
  },
  {
   "cell_type": "markdown",
   "metadata": {},
   "source": [
    "##### Plotting the Training Data Distribution"
   ]
  },
  {
   "cell_type": "code",
   "execution_count": 5,
   "metadata": {},
   "outputs": [
    {
     "name": "stdout",
     "output_type": "stream",
     "text": [
      "Image Shape: (59999, 784)\n",
      "Label Shape: (60000, 1)\n"
     ]
    },
    {
     "name": "stderr",
     "output_type": "stream",
     "text": [
      "C:\\Users\\npace\\AppData\\Roaming\\Python\\Python310\\site-packages\\seaborn\\_decorators.py:36: FutureWarning: Pass the following variable as a keyword arg: x. From version 0.12, the only valid positional argument will be `data`, and passing other arguments without an explicit keyword will result in an error or misinterpretation.\n",
      "  warnings.warn(\n"
     ]
    },
    {
     "data": {
      "image/png": "[encoded data removed]",
      "text/plain": [
       "<Figure size 432x288 with 1 Axes>"
      ]
     },
     "metadata": {
      "needs_background": "light"
     },
     "output_type": "display_data"
    }
   ],
   "source": [
    "# Let's look at the given data distribution\n",
    "\n",
    "train_labels= pd.read_csv(\"../kaggle/input/csvTrainLabel 60k x 1.csv\", header=None, usecols=[0], names=['label'])\n",
    "train_images = pd.read_csv(\"../kaggle/input/csvTrainImages 60k x 784.csv\")\n",
    "\n",
    "#print(train_labels.value_counts())\n",
    "\n",
    "# let's look at the shape of the data\n",
    "print(\"Image Shape: \"+ str(train_images.shape))\n",
    "print(\"Label Shape: \"+ str(train_labels.shape))\n",
    "\n",
    "graph = sns.countplot(train_labels['label']).set(title='Number Distribution in Train Dataset')"
   ]
  },
  {
   "cell_type": "markdown",
   "metadata": {},
   "source": [
    "##### Outputting a Random Digit Image Non-Normalized and then Normalized"
   ]
  },
  {
   "cell_type": "code",
   "execution_count": 6,
   "metadata": {},
   "outputs": [
    {
     "data": {
      "image/png": "[encoded data removed]",
      "text/plain": [
       "<Figure size 432x288 with 1 Axes>"
      ]
     },
     "metadata": {
      "needs_background": "light"
     },
     "output_type": "display_data"
    },
    {
     "data": {
      "image/png": "[encoded data removed]",
      "text/plain": [
       "<Figure size 432x288 with 1 Axes>"
      ]
     },
     "metadata": {
      "needs_background": "light"
     },
     "output_type": "display_data"
    }
   ],
   "source": [
    "# since the pixel value has a max of 255 the normalization factor is 1/255\n",
    "NORMALIZATION_FACTOR = 1/255\n",
    "\n",
    "# get a random sample image\n",
    "image_sample_number = random.randrange(1,train_images.shape[0])\n",
    "image_sample = np.rot90(train_images.iloc[image_sample_number].values.reshape((28,28)),3)\n",
    "\n",
    "# plot the sample image\n",
    "plt.imshow(image_sample)\n",
    "plt.axis('off')\n",
    "plt.title(\"Non-Normailzed \"+str(train_labels.iloc[image_sample_number].values))\n",
    "plt.show()\n",
    "\n",
    "# plot the normalized sample image\n",
    "plt.imshow(image_sample*NORMALIZATION_FACTOR)\n",
    "plt.axis('off')\n",
    "plt.title(\"Normailzed \"+str(train_labels.iloc[image_sample_number].values))\n",
    "plt.show()\n"
   ]
  },
  {
   "cell_type": "code",
   "execution_count": null,
   "metadata": {},
   "outputs": [],
   "source": []
  }
 ],
 "metadata": {
  "kernelspec": {
   "display_name": "Python 3",
   "language": "python",
   "name": "python3"
  },
  "language_info": {
   "codemirror_mode": {
    "name": "ipython",
    "version": 3
   },
   "file_extension": ".py",
   "mimetype": "text/x-python",
   "name": "python",
   "nbconvert_exporter": "python",
   "pygments_lexer": "ipython3",
   "version": "3.10.5"
  },
  "vscode": {
   "interpreter": {
    "hash": "26de051ba29f2982a8de78e945f0abaf191376122a1563185a90213a26c5da77"
   }
  }
 },
 "nbformat": 4,
 "nbformat_minor": 2
}
